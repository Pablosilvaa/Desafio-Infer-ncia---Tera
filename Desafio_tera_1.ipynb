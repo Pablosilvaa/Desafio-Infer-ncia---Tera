{
  "nbformat": 4,
  "nbformat_minor": 0,
  "metadata": {
    "colab": {
      "name": "Desafio tera 1.ipynb",
      "provenance": [],
      "mount_file_id": "1pv0c2RAwL7itiCn5AHp87JiX26GRe2B_",
      "authorship_tag": "ABX9TyPkQRzGLuKwcLuiiUjnDK0C",
      "include_colab_link": true
    },
    "kernelspec": {
      "name": "python3",
      "display_name": "Python 3"
    },
    "language_info": {
      "name": "python"
    }
  },
  "cells": [
    {
      "cell_type": "markdown",
      "metadata": {
        "id": "view-in-github",
        "colab_type": "text"
      },
      "source": [
        "<a href=\"https://colab.research.google.com/github/Pablosilvaa/Desafio-Infer-ncia---Tera/blob/main/Desafio_tera_1.ipynb\" target=\"_parent\"><img src=\"https://colab.research.google.com/assets/colab-badge.svg\" alt=\"Open In Colab\"/></a>"
      ]
    },
    {
      "cell_type": "markdown",
      "metadata": {
        "id": "leW9Xq4oponp"
      },
      "source": [
        "# **Background**\n",
        "### **Depressão e Hábitos Saudáveis**\n",
        "\n",
        "\n",
        "O transtorno depressivo representa um grande problema de saúde pública e é apontado como uma das principais causas de doenças e debilitações segundo a Organização Mundial da Saúde (OMS). A depressão resulta de uma interação complexa de fatores sociais, psicológicos e biológicos e, embora o acesso a diagnósticos e tratamentos esteja aumentando, muitos ainda não possuem acesso ao controle adequado dos sintomas depressivos.\n",
        "\n",
        "Para garantir um estilo de vida saudável, a OMS recomenda a prática regular de exercícios, bem como a adoção de uma dieta saudável rica em alimentos in natura e com reduzido teor de gordura saturada, sal e açucares refinados.\n",
        "\n",
        "Neste desafio, utilizaremos dados de uma pesquisa realizada anualmente nos Estados Unidos para avaliar:\n",
        "\n",
        "\n",
        "**(1) Qual o perfil de indivíduos (adultos maiores de 18 anos) com sintomas depressivos nos EUA no período de 2005-2006**\n",
        "\n",
        "**(2) Se hábitos saudáveis de alimentação e atividade física estão associados a menores índices de depressão nesta população.**\n"
      ]
    },
    {
      "cell_type": "markdown",
      "source": [
        "\n",
        "#**Perguntas durante a EDA**\n",
        "\n",
        "#**DF**\n",
        "\n",
        "## 1. Porque algumas colunas estão com 0 quartis? (06/12 - 08:09)\n",
        "## 2. DPQ030\tDPQ040 tem uma linha com valor = 1( isso está diferente dos outros) (06/12 - 08:09)\n",
        "\n",
        "\n",
        "#**DF1**"
      ],
      "metadata": {
        "id": "orUgvojQp0mK"
      }
    },
    {
      "cell_type": "markdown",
      "metadata": {
        "id": "tWrkoA0HrGZF"
      },
      "source": [
        "#**Pacotes**\n"
      ]
    },
    {
      "cell_type": "code",
      "source": [
        "#pacotes instalados que não estavam contidos no repositório oficial do colab\n",
        "!pip install sweetviz"
      ],
      "metadata": {
        "id": "R2k5Mvobp5cW",
        "colab": {
          "base_uri": "https://localhost:8080/"
        },
        "outputId": "ecb22765-d3d1-48ff-e7d0-1c0bee74ddeb"
      },
      "execution_count": 2,
      "outputs": [
        {
          "output_type": "stream",
          "name": "stdout",
          "text": [
            "Collecting sweetviz\n",
            "  Downloading sweetviz-2.1.3-py3-none-any.whl (15.1 MB)\n",
            "\u001b[K     |████████████████████████████████| 15.1 MB 23.2 MB/s \n",
            "\u001b[?25hRequirement already satisfied: numpy>=1.16.0 in /usr/local/lib/python3.7/dist-packages (from sweetviz) (1.19.5)\n",
            "Requirement already satisfied: jinja2>=2.11.1 in /usr/local/lib/python3.7/dist-packages (from sweetviz) (2.11.3)\n",
            "Requirement already satisfied: matplotlib>=3.1.3 in /usr/local/lib/python3.7/dist-packages (from sweetviz) (3.2.2)\n",
            "Requirement already satisfied: scipy>=1.3.2 in /usr/local/lib/python3.7/dist-packages (from sweetviz) (1.4.1)\n",
            "Requirement already satisfied: importlib-resources>=1.2.0 in /usr/local/lib/python3.7/dist-packages (from sweetviz) (5.4.0)\n",
            "Requirement already satisfied: tqdm>=4.43.0 in /usr/local/lib/python3.7/dist-packages (from sweetviz) (4.62.3)\n",
            "Requirement already satisfied: pandas!=1.0.0,!=1.0.1,!=1.0.2,>=0.25.3 in /usr/local/lib/python3.7/dist-packages (from sweetviz) (1.1.5)\n",
            "Requirement already satisfied: zipp>=3.1.0 in /usr/local/lib/python3.7/dist-packages (from importlib-resources>=1.2.0->sweetviz) (3.6.0)\n",
            "Requirement already satisfied: MarkupSafe>=0.23 in /usr/local/lib/python3.7/dist-packages (from jinja2>=2.11.1->sweetviz) (2.0.1)\n",
            "Requirement already satisfied: pyparsing!=2.0.4,!=2.1.2,!=2.1.6,>=2.0.1 in /usr/local/lib/python3.7/dist-packages (from matplotlib>=3.1.3->sweetviz) (3.0.6)\n",
            "Requirement already satisfied: python-dateutil>=2.1 in /usr/local/lib/python3.7/dist-packages (from matplotlib>=3.1.3->sweetviz) (2.8.2)\n",
            "Requirement already satisfied: cycler>=0.10 in /usr/local/lib/python3.7/dist-packages (from matplotlib>=3.1.3->sweetviz) (0.11.0)\n",
            "Requirement already satisfied: kiwisolver>=1.0.1 in /usr/local/lib/python3.7/dist-packages (from matplotlib>=3.1.3->sweetviz) (1.3.2)\n",
            "Requirement already satisfied: pytz>=2017.2 in /usr/local/lib/python3.7/dist-packages (from pandas!=1.0.0,!=1.0.1,!=1.0.2,>=0.25.3->sweetviz) (2018.9)\n",
            "Requirement already satisfied: six>=1.5 in /usr/local/lib/python3.7/dist-packages (from python-dateutil>=2.1->matplotlib>=3.1.3->sweetviz) (1.15.0)\n",
            "Installing collected packages: sweetviz\n",
            "Successfully installed sweetviz-2.1.3\n"
          ]
        }
      ]
    },
    {
      "cell_type": "code",
      "metadata": {
        "id": "XIunzED8xl5G"
      },
      "source": [
        "#Lista de Importações\n",
        "import pandas as pd\n",
        "import numpy as np\n",
        "import seaborn as sbn\n",
        "import sweetviz as sv"
      ],
      "execution_count": 3,
      "outputs": []
    },
    {
      "cell_type": "markdown",
      "source": [
        "#**Pré Tratamento Referente a PHQ-9**\n"
      ],
      "metadata": {
        "id": "_660_V9Fsf_1"
      }
    },
    {
      "cell_type": "code",
      "metadata": {
        "id": "nJytzmEu5UNQ"
      },
      "source": [
        "dataSM = pd.read_csv(\"/content/drive/MyDrive/Tera/Desafio 1/DEMO_PHQ.csv\") #dataSM referência a dados do questionário de SAÚDE Mental\n",
        "dataSM"
      ],
      "execution_count": null,
      "outputs": []
    },
    {
      "cell_type": "code",
      "source": [
        "#Para facilitar a leitura do dataset, começaremos renomeandos as colunas do dataSM e atribuiremos a essa renomeação de dataSM1\n",
        "dataSM1 = dataSM.rename(columns = {\"SEQN\":\"ID\",\"DPQ010\" : \"Desinteresse ou Falta de Prazer \", \"DPQ020\": \"Abatimento ou Falta de Perspectiva\", \"DPQ030\": \"Insônia ou Excesso de Sono\", \"DPQ040\": \"Cansaço ou Falta de Energia\", \"DPQ050\": \"Falta de Apetite ou Excesso na Alimentação\",\"DPQ060\": \"Sentiu-se: Mal consigo mesmo, Fracassado ou que Decepcionou a Família ou a Si mesmo\", \"DPQ070\": \"Falta de Concentração em Atividades Rotineiras\", \"DPQ080\": \"Agitação ou Lentidão para hábitos comuns como: Andar e Falar\", \"DPQ090\":\"Pensou em Ferir-se ou que era Melhor estar Morto\", \"RIAGENDR\": \"Gênero\", \"RIDAGEYR\":\"Idade em Anos\", \"RIDRETH1\":\"Raça ou Etnia\",\"DMDEDUC\":\"Escolaridade\",\"INDFMINC\":\"Renda anual Familiar(US$)\"}) #O Processo de alteração se deu por usar as próprias palavras que definem momentos da pessoa que fez parte da pesquisa. \n",
        "dataSM1.head()\n"
      ],
      "metadata": {
        "id": "06OeT_bjqmsm",
        "colab": {
          "base_uri": "https://localhost:8080/"
        },
        "outputId": "7b162c6a-aee3-4989-ba7a-380d131062b3"
      },
      "execution_count": 15,
      "outputs": [
        {
          "output_type": "execute_result",
          "data": {
            "text/plain": [
              "(5334, 15)"
            ]
          },
          "metadata": {},
          "execution_count": 15
        }
      ]
    },
    {
      "cell_type": "markdown",
      "source": [
        "#**Pré Tratamente Referente a HEI**\n"
      ],
      "metadata": {
        "id": "ANm8sax-stvq"
      }
    },
    {
      "cell_type": "code",
      "source": [
        "dataSA = pd.read_csv(\"/content/drive/MyDrive/Tera/Desafio 1/PAG_HEI.csv\") #DataSA faz alusão a saúde alimentar.\n",
        "\n",
        "\n",
        "dataSA.head()"
      ],
      "metadata": {
        "id": "cVwJmT3Vs3IQ"
      },
      "execution_count": null,
      "outputs": []
    },
    {
      "cell_type": "code",
      "source": [
        "#Para facilitar a leitura do dataset, começaremos renomeandos as colunas do dataSA e atribuiremos a essa renomeação de dataSA. DataSA faz alusão a saúde alimentar.\n",
        "dataSA1 = dataSA.rename(columns={\"SEQN\":\"ID\", \"PAG_MINW\":\"Tempo Total de Atividades moderada-vigorosa em Minutos\",\"ADHERENCE\":\"Grupo de Aderência ao PAG\", \"HEI2015C1_TOTALVEG\":\"Total de Vegetais\", \"HEI2015C2_GREEN_AND_BEAN\":\"Verduas e Leguminosas\", \"HEI2015C3_TOTALFRUIT\":\"Frutas Totais\", \"HEI2015C4_WHOLEFRUIT\":\"Frutas in Natura\", \"HEI2015C5_WHOLEGRAIN\":\"Grãos Integrais\", \"HEI2015C6_TOTALDAIRY\":\"Laticínios\",\"HEI2015C7_TOTPROT\":\"Proteínas\",\"HEI2015C8_SEAPLANT_PROT\":\"Plantas Marinhas e Proteínas Vegetais\", \"HEI2015C9_FATTYACID\":\"Ácido-Graxo\",\"HEI2015C10_SODIUM\":\"Sódio\",\"HEI2015C11_REFINEDGRAIN\":\"Grãos Refinados\", \"HEI2015C12_SFAT\":\"Gordura Saturada\", \"HEI2015C13_ADDSUG\":\"Açúcares Adicionados\",\"HEI2015_TOTAL_SCORE\":\"Escore Total\"})\n",
        "dataSA1.info()\n"
      ],
      "metadata": {
        "id": "cnA-ceyqwDeh",
        "colab": {
          "base_uri": "https://localhost:8080/"
        },
        "outputId": "fc53334b-ab8f-4564-d4db-86181f97fed1"
      },
      "execution_count": 29,
      "outputs": [
        {
          "output_type": "stream",
          "name": "stdout",
          "text": [
            "<class 'pandas.core.frame.DataFrame'>\n",
            "RangeIndex: 9424 entries, 0 to 9423\n",
            "Data columns (total 17 columns):\n",
            " #   Column                                                  Non-Null Count  Dtype  \n",
            "---  ------                                                  --------------  -----  \n",
            " 0   ID                                                      9424 non-null   int64  \n",
            " 1   Tempo Total de Atividades moderada-vigorosa em Minutos  7150 non-null   float64\n",
            " 2   Grupo de Aderência ao PAG                               7150 non-null   float64\n",
            " 3   Total de Vegetais                                       8549 non-null   float64\n",
            " 4   Verduas e Leguminosas                                   8549 non-null   float64\n",
            " 5   Frutas Totais                                           8549 non-null   float64\n",
            " 6   Frutas in Natura                                        8549 non-null   float64\n",
            " 7   Grãos Integrais                                         8549 non-null   float64\n",
            " 8   Laticínios                                              8549 non-null   float64\n",
            " 9   Proteínas                                               8549 non-null   float64\n",
            " 10  Plantas Marinhas e Proteínas Vegetais                   8549 non-null   float64\n",
            " 11  Ácido-Graxo                                             8549 non-null   float64\n",
            " 12  Sódio                                                   8549 non-null   float64\n",
            " 13  Grãos Refinados                                         8549 non-null   float64\n",
            " 14  Gordura Saturada                                        8549 non-null   float64\n",
            " 15  Açúcares Adicionados                                    8549 non-null   float64\n",
            " 16  Escore Total                                            8549 non-null   float64\n",
            "dtypes: float64(16), int64(1)\n",
            "memory usage: 1.2 MB\n"
          ]
        }
      ]
    },
    {
      "cell_type": "markdown",
      "source": [
        "# **Análise Exploratória de Dados - PHQ-9**"
      ],
      "metadata": {
        "id": "D5MgWQloD8WR"
      }
    },
    {
      "cell_type": "code",
      "source": [
        "#Inicio da Análise Exploratória de Dados\n",
        "\n",
        "dataSM1.head(30)\n",
        "dataSM1.head(20)\n",
        "\n",
        "#Vamos usar o comando describe para comparar com esse data set sem linhas com \"NaN\"\n",
        "dataSM1.describe()\n"
      ],
      "metadata": {
        "colab": {
          "base_uri": "https://localhost:8080/",
          "height": 459
        },
        "id": "BLPkaznFEJnD",
        "outputId": "d4c36ab9-40d9-4501-ac9c-87f1bda8ee4e"
      },
      "execution_count": 52,
      "outputs": [
        {
          "output_type": "execute_result",
          "data": {
            "text/html": [
              "<div>\n",
              "<style scoped>\n",
              "    .dataframe tbody tr th:only-of-type {\n",
              "        vertical-align: middle;\n",
              "    }\n",
              "\n",
              "    .dataframe tbody tr th {\n",
              "        vertical-align: top;\n",
              "    }\n",
              "\n",
              "    .dataframe thead th {\n",
              "        text-align: right;\n",
              "    }\n",
              "</style>\n",
              "<table border=\"1\" class=\"dataframe\">\n",
              "  <thead>\n",
              "    <tr style=\"text-align: right;\">\n",
              "      <th></th>\n",
              "      <th>ID</th>\n",
              "      <th>Desinteresse ou Falta de Prazer</th>\n",
              "      <th>Abatimento ou Falta de Perspectiva</th>\n",
              "      <th>Insônia ou Excesso de Sono</th>\n",
              "      <th>Cansaço ou Falta de Energia</th>\n",
              "      <th>Falta de Apetite ou Excesso na Alimentação</th>\n",
              "      <th>Sentiu-se: Mal consigo mesmo, Fracassado ou que Decepcionou a Família ou a Si mesmo</th>\n",
              "      <th>Falta de Concentração em Atividades Rotineiras</th>\n",
              "      <th>Agitação ou Lentidão para hábitos comuns como: Andar e Falar</th>\n",
              "      <th>Pensou em Ferir-se ou que era Melhor estar Morto</th>\n",
              "      <th>Gênero</th>\n",
              "      <th>Idade em Anos</th>\n",
              "      <th>Raça ou Etnia</th>\n",
              "      <th>Escolaridade</th>\n",
              "      <th>Renda anual Familiar(US$)</th>\n",
              "    </tr>\n",
              "  </thead>\n",
              "  <tbody>\n",
              "    <tr>\n",
              "      <th>count</th>\n",
              "      <td>5334.000000</td>\n",
              "      <td>4836.000000</td>\n",
              "      <td>4836.000000</td>\n",
              "      <td>4836.000000</td>\n",
              "      <td>4836.000000</td>\n",
              "      <td>4836.000000</td>\n",
              "      <td>4836.000000</td>\n",
              "      <td>4836.000000</td>\n",
              "      <td>4836.000000</td>\n",
              "      <td>4836.000000</td>\n",
              "      <td>5334.000000</td>\n",
              "      <td>5334.000000</td>\n",
              "      <td>5334.000000</td>\n",
              "      <td>5334.000000</td>\n",
              "      <td>5287.000000</td>\n",
              "    </tr>\n",
              "    <tr>\n",
              "      <th>mean</th>\n",
              "      <td>36358.796775</td>\n",
              "      <td>0.307279</td>\n",
              "      <td>0.313069</td>\n",
              "      <td>0.551282</td>\n",
              "      <td>0.717328</td>\n",
              "      <td>0.320720</td>\n",
              "      <td>0.209884</td>\n",
              "      <td>0.230356</td>\n",
              "      <td>0.147849</td>\n",
              "      <td>0.050248</td>\n",
              "      <td>1.519873</td>\n",
              "      <td>45.089989</td>\n",
              "      <td>2.871016</td>\n",
              "      <td>3.233221</td>\n",
              "      <td>8.738604</td>\n",
              "    </tr>\n",
              "    <tr>\n",
              "      <th>std</th>\n",
              "      <td>2964.731827</td>\n",
              "      <td>0.758459</td>\n",
              "      <td>0.710683</td>\n",
              "      <td>0.931166</td>\n",
              "      <td>0.913711</td>\n",
              "      <td>0.743057</td>\n",
              "      <td>0.624552</td>\n",
              "      <td>0.639186</td>\n",
              "      <td>0.590390</td>\n",
              "      <td>0.326933</td>\n",
              "      <td>0.499652</td>\n",
              "      <td>20.145853</td>\n",
              "      <td>1.128468</td>\n",
              "      <td>1.268395</td>\n",
              "      <td>12.777756</td>\n",
              "    </tr>\n",
              "    <tr>\n",
              "      <th>min</th>\n",
              "      <td>31130.000000</td>\n",
              "      <td>0.000000</td>\n",
              "      <td>0.000000</td>\n",
              "      <td>0.000000</td>\n",
              "      <td>0.000000</td>\n",
              "      <td>0.000000</td>\n",
              "      <td>0.000000</td>\n",
              "      <td>0.000000</td>\n",
              "      <td>0.000000</td>\n",
              "      <td>0.000000</td>\n",
              "      <td>1.000000</td>\n",
              "      <td>18.000000</td>\n",
              "      <td>1.000000</td>\n",
              "      <td>1.000000</td>\n",
              "      <td>1.000000</td>\n",
              "    </tr>\n",
              "    <tr>\n",
              "      <th>25%</th>\n",
              "      <td>33838.500000</td>\n",
              "      <td>0.000000</td>\n",
              "      <td>0.000000</td>\n",
              "      <td>0.000000</td>\n",
              "      <td>0.000000</td>\n",
              "      <td>0.000000</td>\n",
              "      <td>0.000000</td>\n",
              "      <td>0.000000</td>\n",
              "      <td>0.000000</td>\n",
              "      <td>0.000000</td>\n",
              "      <td>1.000000</td>\n",
              "      <td>27.000000</td>\n",
              "      <td>3.000000</td>\n",
              "      <td>2.000000</td>\n",
              "      <td>4.000000</td>\n",
              "    </tr>\n",
              "    <tr>\n",
              "      <th>50%</th>\n",
              "      <td>36347.500000</td>\n",
              "      <td>0.000000</td>\n",
              "      <td>0.000000</td>\n",
              "      <td>0.000000</td>\n",
              "      <td>0.000000</td>\n",
              "      <td>0.000000</td>\n",
              "      <td>0.000000</td>\n",
              "      <td>0.000000</td>\n",
              "      <td>0.000000</td>\n",
              "      <td>0.000000</td>\n",
              "      <td>2.000000</td>\n",
              "      <td>43.000000</td>\n",
              "      <td>3.000000</td>\n",
              "      <td>3.000000</td>\n",
              "      <td>7.000000</td>\n",
              "    </tr>\n",
              "    <tr>\n",
              "      <th>75%</th>\n",
              "      <td>38915.750000</td>\n",
              "      <td>0.000000</td>\n",
              "      <td>0.000000</td>\n",
              "      <td>1.000000</td>\n",
              "      <td>1.000000</td>\n",
              "      <td>0.000000</td>\n",
              "      <td>0.000000</td>\n",
              "      <td>0.000000</td>\n",
              "      <td>0.000000</td>\n",
              "      <td>0.000000</td>\n",
              "      <td>2.000000</td>\n",
              "      <td>62.000000</td>\n",
              "      <td>4.000000</td>\n",
              "      <td>4.000000</td>\n",
              "      <td>10.000000</td>\n",
              "    </tr>\n",
              "    <tr>\n",
              "      <th>max</th>\n",
              "      <td>41473.000000</td>\n",
              "      <td>9.000000</td>\n",
              "      <td>9.000000</td>\n",
              "      <td>9.000000</td>\n",
              "      <td>9.000000</td>\n",
              "      <td>9.000000</td>\n",
              "      <td>9.000000</td>\n",
              "      <td>9.000000</td>\n",
              "      <td>9.000000</td>\n",
              "      <td>9.000000</td>\n",
              "      <td>2.000000</td>\n",
              "      <td>85.000000</td>\n",
              "      <td>5.000000</td>\n",
              "      <td>9.000000</td>\n",
              "      <td>99.000000</td>\n",
              "    </tr>\n",
              "  </tbody>\n",
              "</table>\n",
              "</div>"
            ],
            "text/plain": [
              "                 ID  ...  Renda anual Familiar(US$)\n",
              "count   5334.000000  ...                5287.000000\n",
              "mean   36358.796775  ...                   8.738604\n",
              "std     2964.731827  ...                  12.777756\n",
              "min    31130.000000  ...                   1.000000\n",
              "25%    33838.500000  ...                   4.000000\n",
              "50%    36347.500000  ...                   7.000000\n",
              "75%    38915.750000  ...                  10.000000\n",
              "max    41473.000000  ...                  99.000000\n",
              "\n",
              "[8 rows x 15 columns]"
            ]
          },
          "metadata": {},
          "execution_count": 52
        }
      ]
    },
    {
      "cell_type": "code",
      "source": [
        "dataSM1_No_NaN = dataSM1.dropna()\n",
        "\n",
        "dataSM1_No_NaN.describe()\n",
        "#Comparando os datasets dataSM1 e com DataSM1_No_NaN vemos que não existe  muita diferenta entre eles, portanto vamos manter a exclusão das linhas com dados faltantes(NaN)"
      ],
      "metadata": {
        "colab": {
          "base_uri": "https://localhost:8080/",
          "height": 459
        },
        "id": "sHzHhd5gZtEu",
        "outputId": "f6f7287a-9ce1-48a5-f6ca-4e20921b4111"
      },
      "execution_count": 51,
      "outputs": [
        {
          "output_type": "execute_result",
          "data": {
            "text/html": [
              "<div>\n",
              "<style scoped>\n",
              "    .dataframe tbody tr th:only-of-type {\n",
              "        vertical-align: middle;\n",
              "    }\n",
              "\n",
              "    .dataframe tbody tr th {\n",
              "        vertical-align: top;\n",
              "    }\n",
              "\n",
              "    .dataframe thead th {\n",
              "        text-align: right;\n",
              "    }\n",
              "</style>\n",
              "<table border=\"1\" class=\"dataframe\">\n",
              "  <thead>\n",
              "    <tr style=\"text-align: right;\">\n",
              "      <th></th>\n",
              "      <th>ID</th>\n",
              "      <th>Desinteresse ou Falta de Prazer</th>\n",
              "      <th>Abatimento ou Falta de Perspectiva</th>\n",
              "      <th>Insônia ou Excesso de Sono</th>\n",
              "      <th>Cansaço ou Falta de Energia</th>\n",
              "      <th>Falta de Apetite ou Excesso na Alimentação</th>\n",
              "      <th>Sentiu-se: Mal consigo mesmo, Fracassado ou que Decepcionou a Família ou a Si mesmo</th>\n",
              "      <th>Falta de Concentração em Atividades Rotineiras</th>\n",
              "      <th>Agitação ou Lentidão para hábitos comuns como: Andar e Falar</th>\n",
              "      <th>Pensou em Ferir-se ou que era Melhor estar Morto</th>\n",
              "      <th>Gênero</th>\n",
              "      <th>Idade em Anos</th>\n",
              "      <th>Raça ou Etnia</th>\n",
              "      <th>Escolaridade</th>\n",
              "      <th>Renda anual Familiar(US$)</th>\n",
              "    </tr>\n",
              "  </thead>\n",
              "  <tbody>\n",
              "    <tr>\n",
              "      <th>count</th>\n",
              "      <td>4800.000000</td>\n",
              "      <td>4800.000000</td>\n",
              "      <td>4800.000000</td>\n",
              "      <td>4800.000000</td>\n",
              "      <td>4800.000000</td>\n",
              "      <td>4800.000000</td>\n",
              "      <td>4800.000000</td>\n",
              "      <td>4800.000000</td>\n",
              "      <td>4800.000000</td>\n",
              "      <td>4800.00000</td>\n",
              "      <td>4800.000000</td>\n",
              "      <td>4800.000000</td>\n",
              "      <td>4800.000000</td>\n",
              "      <td>4800.000000</td>\n",
              "      <td>4800.000000</td>\n",
              "    </tr>\n",
              "    <tr>\n",
              "      <th>mean</th>\n",
              "      <td>36351.613750</td>\n",
              "      <td>0.307917</td>\n",
              "      <td>0.312917</td>\n",
              "      <td>0.550208</td>\n",
              "      <td>0.716875</td>\n",
              "      <td>0.318958</td>\n",
              "      <td>0.209792</td>\n",
              "      <td>0.229583</td>\n",
              "      <td>0.147708</td>\n",
              "      <td>0.05000</td>\n",
              "      <td>1.517708</td>\n",
              "      <td>45.027083</td>\n",
              "      <td>2.869167</td>\n",
              "      <td>3.263125</td>\n",
              "      <td>8.476667</td>\n",
              "    </tr>\n",
              "    <tr>\n",
              "      <th>std</th>\n",
              "      <td>2973.514924</td>\n",
              "      <td>0.760137</td>\n",
              "      <td>0.711586</td>\n",
              "      <td>0.930363</td>\n",
              "      <td>0.912993</td>\n",
              "      <td>0.741792</td>\n",
              "      <td>0.624855</td>\n",
              "      <td>0.639239</td>\n",
              "      <td>0.590308</td>\n",
              "      <td>0.32727</td>\n",
              "      <td>0.499738</td>\n",
              "      <td>19.899605</td>\n",
              "      <td>1.111968</td>\n",
              "      <td>1.251852</td>\n",
              "      <td>11.764758</td>\n",
              "    </tr>\n",
              "    <tr>\n",
              "      <th>min</th>\n",
              "      <td>31131.000000</td>\n",
              "      <td>0.000000</td>\n",
              "      <td>0.000000</td>\n",
              "      <td>0.000000</td>\n",
              "      <td>0.000000</td>\n",
              "      <td>0.000000</td>\n",
              "      <td>0.000000</td>\n",
              "      <td>0.000000</td>\n",
              "      <td>0.000000</td>\n",
              "      <td>0.00000</td>\n",
              "      <td>1.000000</td>\n",
              "      <td>18.000000</td>\n",
              "      <td>1.000000</td>\n",
              "      <td>1.000000</td>\n",
              "      <td>1.000000</td>\n",
              "    </tr>\n",
              "    <tr>\n",
              "      <th>25%</th>\n",
              "      <td>33824.000000</td>\n",
              "      <td>0.000000</td>\n",
              "      <td>0.000000</td>\n",
              "      <td>0.000000</td>\n",
              "      <td>0.000000</td>\n",
              "      <td>0.000000</td>\n",
              "      <td>0.000000</td>\n",
              "      <td>0.000000</td>\n",
              "      <td>0.000000</td>\n",
              "      <td>0.00000</td>\n",
              "      <td>1.000000</td>\n",
              "      <td>27.000000</td>\n",
              "      <td>3.000000</td>\n",
              "      <td>2.000000</td>\n",
              "      <td>5.000000</td>\n",
              "    </tr>\n",
              "    <tr>\n",
              "      <th>50%</th>\n",
              "      <td>36350.500000</td>\n",
              "      <td>0.000000</td>\n",
              "      <td>0.000000</td>\n",
              "      <td>0.000000</td>\n",
              "      <td>0.000000</td>\n",
              "      <td>0.000000</td>\n",
              "      <td>0.000000</td>\n",
              "      <td>0.000000</td>\n",
              "      <td>0.000000</td>\n",
              "      <td>0.00000</td>\n",
              "      <td>2.000000</td>\n",
              "      <td>43.000000</td>\n",
              "      <td>3.000000</td>\n",
              "      <td>3.000000</td>\n",
              "      <td>7.000000</td>\n",
              "    </tr>\n",
              "    <tr>\n",
              "      <th>75%</th>\n",
              "      <td>38920.250000</td>\n",
              "      <td>0.000000</td>\n",
              "      <td>0.000000</td>\n",
              "      <td>1.000000</td>\n",
              "      <td>1.000000</td>\n",
              "      <td>0.000000</td>\n",
              "      <td>0.000000</td>\n",
              "      <td>0.000000</td>\n",
              "      <td>0.000000</td>\n",
              "      <td>0.00000</td>\n",
              "      <td>2.000000</td>\n",
              "      <td>61.000000</td>\n",
              "      <td>4.000000</td>\n",
              "      <td>4.000000</td>\n",
              "      <td>10.000000</td>\n",
              "    </tr>\n",
              "    <tr>\n",
              "      <th>max</th>\n",
              "      <td>41473.000000</td>\n",
              "      <td>9.000000</td>\n",
              "      <td>9.000000</td>\n",
              "      <td>9.000000</td>\n",
              "      <td>9.000000</td>\n",
              "      <td>9.000000</td>\n",
              "      <td>9.000000</td>\n",
              "      <td>9.000000</td>\n",
              "      <td>9.000000</td>\n",
              "      <td>9.00000</td>\n",
              "      <td>2.000000</td>\n",
              "      <td>85.000000</td>\n",
              "      <td>5.000000</td>\n",
              "      <td>9.000000</td>\n",
              "      <td>99.000000</td>\n",
              "    </tr>\n",
              "  </tbody>\n",
              "</table>\n",
              "</div>"
            ],
            "text/plain": [
              "                 ID  ...  Renda anual Familiar(US$)\n",
              "count   4800.000000  ...                4800.000000\n",
              "mean   36351.613750  ...                   8.476667\n",
              "std     2973.514924  ...                  11.764758\n",
              "min    31131.000000  ...                   1.000000\n",
              "25%    33824.000000  ...                   5.000000\n",
              "50%    36350.500000  ...                   7.000000\n",
              "75%    38920.250000  ...                  10.000000\n",
              "max    41473.000000  ...                  99.000000\n",
              "\n",
              "[8 rows x 15 columns]"
            ]
          },
          "metadata": {},
          "execution_count": 51
        }
      ]
    }
  ]
}